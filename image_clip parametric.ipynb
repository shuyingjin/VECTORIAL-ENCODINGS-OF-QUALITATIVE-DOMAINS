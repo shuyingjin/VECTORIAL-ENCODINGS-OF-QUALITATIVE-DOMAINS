{
 "cells": [
  {
   "cell_type": "code",
   "execution_count": null,
   "id": "573963d9",
   "metadata": {},
   "outputs": [
    {
     "name": "stderr",
     "output_type": "stream",
     "text": [
      "c:\\Users\\golds\\miniconda3\\envs\\torch_pig\\Lib\\site-packages\\transformers\\utils\\generic.py:311: FutureWarning: `torch.utils._pytree._register_pytree_node` is deprecated. Please use `torch.utils._pytree.register_pytree_node` instead.\n",
      "  torch.utils._pytree._register_pytree_node(\n",
      "c:\\Users\\golds\\miniconda3\\envs\\torch_pig\\Lib\\site-packages\\transformers\\utils\\generic.py:311: FutureWarning: `torch.utils._pytree._register_pytree_node` is deprecated. Please use `torch.utils._pytree.register_pytree_node` instead.\n",
      "  torch.utils._pytree._register_pytree_node(\n",
      "c:\\Users\\golds\\miniconda3\\envs\\torch_pig\\Lib\\site-packages\\huggingface_hub\\file_download.py:896: FutureWarning: `resume_download` is deprecated and will be removed in version 1.0.0. Downloads always resume when possible. If you want to force a new download, use `force_download=True`.\n",
      "  warnings.warn(\n",
      "c:\\Users\\golds\\miniconda3\\envs\\torch_pig\\Lib\\site-packages\\transformers\\modeling_utils.py:488: FutureWarning: You are using `torch.load` with `weights_only=False` (the current default value), which uses the default pickle module implicitly. It is possible to construct malicious pickle data which will execute arbitrary code during unpickling (See https://github.com/pytorch/pytorch/blob/main/SECURITY.md#untrusted-models for more details). In a future release, the default value for `weights_only` will be flipped to `True`. This limits the functions that could be executed during unpickling. Arbitrary objects will no longer be allowed to be loaded via this mode unless they are explicitly allowlisted by the user via `torch.serialization.add_safe_globals`. We recommend you start setting `weights_only=True` for any use case where you don't have full control of the loaded file. Please open an issue on GitHub for any issues related to this experimental feature.\n",
      "  return torch.load(checkpoint_file, map_location=map_location)\n"
     ]
    },
    {
     "name": "stdout",
     "output_type": "stream",
     "text": [
      "Processed 100/908 images\n",
      "Processed 200/908 images\n",
      "Processed 300/908 images\n",
      "Processed 400/908 images\n",
      "Processed 500/908 images\n",
      "Processed 600/908 images\n",
      "Processed 700/908 images\n",
      "Processed 800/908 images\n",
      "Processed 900/908 images\n",
      "Processed 908/908 images\n",
      "CLIP feature matrix shape: (908, 768)\n",
      "Saved CLIP features to C:\\Users\\golds\\Desktop\\作业julian\\Xadded_img_clip.npy\n"
     ]
    }
   ],
   "source": [
    "from transformers import CLIPProcessor, CLIPModel\n",
    "import torch\n",
    "import numpy as np\n",
    "import os\n",
    "from PIL import Image\n",
    "from sklearn.preprocessing import normalize\n",
    "\n",
    "\n",
    "image_dir   = r\"C:\\Users\\golds\\Desktop\\Vectorial Encodings\\added image\"\n",
    "output_file = r'C:\\Users\\golds\\Desktop\\Vectorial Encodings\\Xadded_img_clip.npy'\n",
    "\n",
    "\n",
    "device    = torch.device('cuda' if torch.cuda.is_available() else 'cpu')\n",
    "processor = CLIPProcessor.from_pretrained(\"openai/clip-vit-base-patch32\")\n",
    "model     = CLIPModel.from_pretrained(\"openai/clip-vit-base-patch32\").vision_model.to(device)\n",
    "model.eval()\n",
    "\n",
    "paths    = sorted([os.path.join(image_dir, f)\n",
    "                   for f in os.listdir(image_dir)\n",
    "                   if f.lower().endswith(('.jpg','.jpeg','.png'))])\n",
    "features = []\n",
    "\n",
    "for idx, path in enumerate(paths, 1):\n",
    "    img = Image.open(path).convert(\"RGB\")\n",
    "    inputs = processor(images=img, return_tensors=\"pt\").to(device)\n",
    "    with torch.no_grad():\n",
    "        out = model(**inputs).pooler_output  # (1, 512)\n",
    "    features.append(out.cpu().numpy().squeeze())\n",
    "    if idx % 100 == 0 or idx == len(paths):\n",
    "        print(f\"Processed {idx}/{len(paths)} images\")\n",
    "\n",
    "X_clip = np.vstack(features)  # (N_images, 512)\n",
    "X_clip = normalize(X_clip, axis=1)\n",
    "print(\"CLIP feature matrix shape:\", X_clip.shape)\n",
    "\n",
    "np.save(output_file, X_clip)\n",
    "print(f\"Saved CLIP features to {output_file}\")\n"
   ]
  }
 ],
 "metadata": {
  "kernelspec": {
   "display_name": "torch_pig",
   "language": "python",
   "name": "python3"
  },
  "language_info": {
   "codemirror_mode": {
    "name": "ipython",
    "version": 3
   },
   "file_extension": ".py",
   "mimetype": "text/x-python",
   "name": "python",
   "nbconvert_exporter": "python",
   "pygments_lexer": "ipython3",
   "version": "3.11.9"
  }
 },
 "nbformat": 4,
 "nbformat_minor": 5
}
