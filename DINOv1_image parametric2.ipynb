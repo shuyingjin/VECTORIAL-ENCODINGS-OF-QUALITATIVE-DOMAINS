{
 "cells": [
  {
   "cell_type": "code",
   "execution_count": null,
   "id": "0eb64e88",
   "metadata": {},
   "outputs": [
    {
     "name": "stdout",
     "output_type": "stream",
     "text": [
      "🚀 Start training…\n"
     ]
    },
    {
     "name": "stderr",
     "output_type": "stream",
     "text": [
      "Epoch:   1%|          | 1/100 [00:10<17:52, 10.83s/it]"
     ]
    },
    {
     "name": "stdout",
     "output_type": "stream",
     "text": [
      "Epoch   1 → QE=27.6858, TE=0.1520\n"
     ]
    },
    {
     "name": "stderr",
     "output_type": "stream",
     "text": [
      "Epoch:   2%|▏         | 2/100 [00:21<17:47, 10.90s/it]"
     ]
    },
    {
     "name": "stdout",
     "output_type": "stream",
     "text": [
      "Epoch   2 → QE=28.5707, TE=0.3040\n"
     ]
    },
    {
     "name": "stderr",
     "output_type": "stream",
     "text": [
      "Epoch:   3%|▎         | 3/100 [00:32<17:40, 10.93s/it]"
     ]
    },
    {
     "name": "stdout",
     "output_type": "stream",
     "text": [
      "Epoch   3 → QE=28.0546, TE=0.1872\n"
     ]
    },
    {
     "name": "stderr",
     "output_type": "stream",
     "text": [
      "Epoch:   4%|▍         | 4/100 [00:43<17:13, 10.76s/it]"
     ]
    },
    {
     "name": "stdout",
     "output_type": "stream",
     "text": [
      "Epoch   4 → QE=28.8418, TE=0.1465\n"
     ]
    },
    {
     "name": "stderr",
     "output_type": "stream",
     "text": [
      "Epoch:   5%|▌         | 5/100 [00:53<17:01, 10.75s/it]"
     ]
    },
    {
     "name": "stdout",
     "output_type": "stream",
     "text": [
      "Epoch   5 → QE=27.4523, TE=0.0859\n"
     ]
    },
    {
     "name": "stderr",
     "output_type": "stream",
     "text": [
      "Epoch:   6%|▌         | 6/100 [01:04<16:43, 10.68s/it]"
     ]
    },
    {
     "name": "stdout",
     "output_type": "stream",
     "text": [
      "Epoch   6 → QE=27.4774, TE=0.2610\n"
     ]
    },
    {
     "name": "stderr",
     "output_type": "stream",
     "text": [
      "Epoch:   7%|▋         | 7/100 [01:15<16:27, 10.62s/it]"
     ]
    },
    {
     "name": "stdout",
     "output_type": "stream",
     "text": [
      "Epoch   7 → QE=27.8822, TE=0.1211\n"
     ]
    },
    {
     "name": "stderr",
     "output_type": "stream",
     "text": [
      "Epoch:   8%|▊         | 8/100 [01:25<16:11, 10.56s/it]"
     ]
    },
    {
     "name": "stdout",
     "output_type": "stream",
     "text": [
      "Epoch   8 → QE=28.1526, TE=0.1894\n"
     ]
    },
    {
     "name": "stderr",
     "output_type": "stream",
     "text": [
      "Epoch:   9%|▉         | 9/100 [01:36<16:02, 10.57s/it]"
     ]
    },
    {
     "name": "stdout",
     "output_type": "stream",
     "text": [
      "Epoch   9 → QE=27.6817, TE=0.2522\n"
     ]
    },
    {
     "name": "stderr",
     "output_type": "stream",
     "text": [
      "Epoch:  10%|█         | 10/100 [01:46<15:52, 10.58s/it]"
     ]
    },
    {
     "name": "stdout",
     "output_type": "stream",
     "text": [
      "Epoch  10 → QE=28.4801, TE=0.0914\n"
     ]
    },
    {
     "name": "stderr",
     "output_type": "stream",
     "text": [
      "Epoch:  11%|█         | 11/100 [01:57<15:42, 10.59s/it]"
     ]
    },
    {
     "name": "stdout",
     "output_type": "stream",
     "text": [
      "Epoch  11 → QE=28.6630, TE=0.1024\n"
     ]
    },
    {
     "name": "stderr",
     "output_type": "stream",
     "text": [
      "Epoch:  12%|█▏        | 12/100 [02:07<15:33, 10.61s/it]"
     ]
    },
    {
     "name": "stdout",
     "output_type": "stream",
     "text": [
      "Epoch  12 → QE=28.0130, TE=0.2511\n"
     ]
    },
    {
     "name": "stderr",
     "output_type": "stream",
     "text": [
      "Epoch:  13%|█▎        | 13/100 [02:18<15:24, 10.63s/it]"
     ]
    },
    {
     "name": "stdout",
     "output_type": "stream",
     "text": [
      "Epoch  13 → QE=27.2933, TE=0.2081\n"
     ]
    },
    {
     "name": "stderr",
     "output_type": "stream",
     "text": [
      "Epoch:  14%|█▍        | 14/100 [02:29<15:14, 10.64s/it]"
     ]
    },
    {
     "name": "stdout",
     "output_type": "stream",
     "text": [
      "Epoch  14 → QE=27.4580, TE=0.1200\n"
     ]
    },
    {
     "name": "stderr",
     "output_type": "stream",
     "text": [
      "Epoch:  15%|█▌        | 15/100 [02:39<15:02, 10.62s/it]"
     ]
    },
    {
     "name": "stdout",
     "output_type": "stream",
     "text": [
      "Epoch  15 → QE=28.1000, TE=0.0771\n"
     ]
    },
    {
     "name": "stderr",
     "output_type": "stream",
     "text": [
      "Epoch:  16%|█▌        | 16/100 [02:50<14:49, 10.59s/it]"
     ]
    },
    {
     "name": "stdout",
     "output_type": "stream",
     "text": [
      "Epoch  16 → QE=27.4761, TE=0.1707\n"
     ]
    },
    {
     "name": "stderr",
     "output_type": "stream",
     "text": [
      "Epoch:  17%|█▋        | 17/100 [03:00<14:39, 10.60s/it]"
     ]
    },
    {
     "name": "stdout",
     "output_type": "stream",
     "text": [
      "Epoch  17 → QE=30.0548, TE=0.3051\n"
     ]
    },
    {
     "name": "stderr",
     "output_type": "stream",
     "text": [
      "Epoch:  18%|█▊        | 18/100 [03:11<14:31, 10.63s/it]"
     ]
    },
    {
     "name": "stdout",
     "output_type": "stream",
     "text": [
      "Epoch  18 → QE=27.7765, TE=0.2037\n"
     ]
    },
    {
     "name": "stderr",
     "output_type": "stream",
     "text": [
      "Epoch:  19%|█▉        | 19/100 [03:22<14:23, 10.66s/it]"
     ]
    },
    {
     "name": "stdout",
     "output_type": "stream",
     "text": [
      "Epoch  19 → QE=28.9794, TE=0.2621\n"
     ]
    },
    {
     "name": "stderr",
     "output_type": "stream",
     "text": [
      "Epoch:  20%|██        | 20/100 [03:33<14:15, 10.69s/it]"
     ]
    },
    {
     "name": "stdout",
     "output_type": "stream",
     "text": [
      "Epoch  20 → QE=28.5715, TE=0.1828\n"
     ]
    },
    {
     "name": "stderr",
     "output_type": "stream",
     "text": [
      "Epoch:  21%|██        | 21/100 [03:43<14:03, 10.67s/it]"
     ]
    },
    {
     "name": "stdout",
     "output_type": "stream",
     "text": [
      "Epoch  21 → QE=27.1144, TE=0.1883\n"
     ]
    },
    {
     "name": "stderr",
     "output_type": "stream",
     "text": [
      "Epoch:  22%|██▏       | 22/100 [03:54<13:51, 10.66s/it]"
     ]
    },
    {
     "name": "stdout",
     "output_type": "stream",
     "text": [
      "Epoch  22 → QE=28.0487, TE=0.1894\n"
     ]
    },
    {
     "name": "stderr",
     "output_type": "stream",
     "text": [
      "Epoch:  23%|██▎       | 23/100 [04:05<13:39, 10.64s/it]"
     ]
    },
    {
     "name": "stdout",
     "output_type": "stream",
     "text": [
      "Epoch  23 → QE=28.2630, TE=0.1663\n"
     ]
    },
    {
     "name": "stderr",
     "output_type": "stream",
     "text": [
      "Epoch:  24%|██▍       | 24/100 [04:15<13:29, 10.65s/it]"
     ]
    },
    {
     "name": "stdout",
     "output_type": "stream",
     "text": [
      "Epoch  24 → QE=28.4874, TE=0.1211\n"
     ]
    },
    {
     "name": "stderr",
     "output_type": "stream",
     "text": [
      "Epoch:  25%|██▌       | 25/100 [04:26<13:17, 10.63s/it]"
     ]
    },
    {
     "name": "stdout",
     "output_type": "stream",
     "text": [
      "Epoch  25 → QE=27.7849, TE=0.2203\n"
     ]
    },
    {
     "name": "stderr",
     "output_type": "stream",
     "text": [
      "Epoch:  26%|██▌       | 26/100 [04:36<13:05, 10.61s/it]"
     ]
    },
    {
     "name": "stdout",
     "output_type": "stream",
     "text": [
      "Epoch  26 → QE=27.4649, TE=0.1839\n"
     ]
    },
    {
     "name": "stderr",
     "output_type": "stream",
     "text": [
      "Epoch:  27%|██▋       | 27/100 [04:47<12:51, 10.57s/it]"
     ]
    },
    {
     "name": "stdout",
     "output_type": "stream",
     "text": [
      "Epoch  27 → QE=28.2060, TE=0.1388\n"
     ]
    },
    {
     "name": "stderr",
     "output_type": "stream",
     "text": [
      "Epoch:  28%|██▊       | 28/100 [04:57<12:39, 10.55s/it]"
     ]
    },
    {
     "name": "stdout",
     "output_type": "stream",
     "text": [
      "Epoch  28 → QE=27.8090, TE=0.1795\n"
     ]
    },
    {
     "name": "stderr",
     "output_type": "stream",
     "text": [
      "Epoch:  29%|██▉       | 29/100 [05:08<12:31, 10.59s/it]"
     ]
    },
    {
     "name": "stdout",
     "output_type": "stream",
     "text": [
      "Epoch  29 → QE=28.4621, TE=0.1839\n"
     ]
    },
    {
     "name": "stderr",
     "output_type": "stream",
     "text": [
      "Epoch:  30%|███       | 30/100 [05:19<12:22, 10.61s/it]"
     ]
    },
    {
     "name": "stdout",
     "output_type": "stream",
     "text": [
      "Epoch  30 → QE=27.1007, TE=0.1399\n"
     ]
    },
    {
     "name": "stderr",
     "output_type": "stream",
     "text": [
      "Epoch:  31%|███       | 31/100 [05:30<12:20, 10.73s/it]"
     ]
    },
    {
     "name": "stdout",
     "output_type": "stream",
     "text": [
      "Epoch  31 → QE=27.6310, TE=0.1817\n"
     ]
    },
    {
     "name": "stderr",
     "output_type": "stream",
     "text": [
      "Epoch:  32%|███▏      | 32/100 [05:40<12:09, 10.73s/it]"
     ]
    },
    {
     "name": "stdout",
     "output_type": "stream",
     "text": [
      "Epoch  32 → QE=27.8704, TE=0.2687\n"
     ]
    },
    {
     "name": "stderr",
     "output_type": "stream",
     "text": [
      "Epoch:  33%|███▎      | 33/100 [05:51<12:03, 10.79s/it]"
     ]
    },
    {
     "name": "stdout",
     "output_type": "stream",
     "text": [
      "Epoch  33 → QE=27.7411, TE=0.1806\n"
     ]
    },
    {
     "name": "stderr",
     "output_type": "stream",
     "text": [
      "Epoch:  34%|███▍      | 34/100 [06:02<11:50, 10.77s/it]"
     ]
    },
    {
     "name": "stdout",
     "output_type": "stream",
     "text": [
      "Epoch  34 → QE=26.9017, TE=0.2357\n"
     ]
    },
    {
     "name": "stderr",
     "output_type": "stream",
     "text": [
      "Epoch:  35%|███▌      | 35/100 [06:13<11:39, 10.76s/it]"
     ]
    },
    {
     "name": "stdout",
     "output_type": "stream",
     "text": [
      "Epoch  35 → QE=27.6658, TE=0.1784\n"
     ]
    },
    {
     "name": "stderr",
     "output_type": "stream",
     "text": [
      "Epoch:  36%|███▌      | 36/100 [06:30<13:33, 12.71s/it]"
     ]
    },
    {
     "name": "stdout",
     "output_type": "stream",
     "text": [
      "Epoch  36 → QE=28.2731, TE=0.2819\n"
     ]
    },
    {
     "name": "stderr",
     "output_type": "stream",
     "text": [
      "Epoch:  37%|███▋      | 37/100 [06:40<12:38, 12.04s/it]"
     ]
    },
    {
     "name": "stdout",
     "output_type": "stream",
     "text": [
      "Epoch  37 → QE=27.7281, TE=0.1729\n"
     ]
    },
    {
     "name": "stderr",
     "output_type": "stream",
     "text": [
      "Epoch:  38%|███▊      | 38/100 [06:51<11:55, 11.54s/it]"
     ]
    },
    {
     "name": "stdout",
     "output_type": "stream",
     "text": [
      "Epoch  38 → QE=27.8524, TE=0.2192\n"
     ]
    },
    {
     "name": "stderr",
     "output_type": "stream",
     "text": [
      "Epoch:  39%|███▉      | 39/100 [07:02<11:28, 11.28s/it]"
     ]
    },
    {
     "name": "stdout",
     "output_type": "stream",
     "text": [
      "Epoch  39 → QE=28.0655, TE=0.1498\n"
     ]
    },
    {
     "name": "stderr",
     "output_type": "stream",
     "text": [
      "Epoch:  40%|████      | 40/100 [07:12<11:10, 11.18s/it]"
     ]
    },
    {
     "name": "stdout",
     "output_type": "stream",
     "text": [
      "Epoch  40 → QE=27.3521, TE=0.1344\n"
     ]
    },
    {
     "name": "stderr",
     "output_type": "stream",
     "text": [
      "Epoch:  41%|████      | 41/100 [07:33<13:39, 13.89s/it]"
     ]
    },
    {
     "name": "stdout",
     "output_type": "stream",
     "text": [
      "Epoch  41 → QE=26.8537, TE=0.1333\n"
     ]
    },
    {
     "name": "stderr",
     "output_type": "stream",
     "text": [
      "Epoch:  42%|████▏     | 42/100 [08:39<28:31, 29.51s/it]"
     ]
    },
    {
     "name": "stdout",
     "output_type": "stream",
     "text": [
      "Epoch  42 → QE=27.6784, TE=0.1630\n"
     ]
    },
    {
     "name": "stderr",
     "output_type": "stream",
     "text": [
      "Epoch:  43%|████▎     | 43/100 [09:10<28:24, 29.91s/it]"
     ]
    },
    {
     "name": "stdout",
     "output_type": "stream",
     "text": [
      "Epoch  43 → QE=27.2820, TE=0.2236\n"
     ]
    },
    {
     "name": "stderr",
     "output_type": "stream",
     "text": [
      "Epoch:  44%|████▍     | 44/100 [09:26<24:09, 25.89s/it]"
     ]
    },
    {
     "name": "stdout",
     "output_type": "stream",
     "text": [
      "Epoch  44 → QE=26.8774, TE=0.1002\n"
     ]
    },
    {
     "name": "stderr",
     "output_type": "stream",
     "text": [
      "Epoch:  45%|████▌     | 45/100 [09:36<19:26, 21.21s/it]"
     ]
    },
    {
     "name": "stdout",
     "output_type": "stream",
     "text": [
      "Epoch  45 → QE=27.2417, TE=0.2423\n"
     ]
    },
    {
     "name": "stderr",
     "output_type": "stream",
     "text": [
      "Epoch:  46%|████▌     | 46/100 [09:47<16:07, 17.91s/it]"
     ]
    },
    {
     "name": "stdout",
     "output_type": "stream",
     "text": [
      "Epoch  46 → QE=27.9220, TE=0.1090\n"
     ]
    },
    {
     "name": "stderr",
     "output_type": "stream",
     "text": [
      "Epoch:  47%|████▋     | 47/100 [09:57<13:46, 15.60s/it]"
     ]
    },
    {
     "name": "stdout",
     "output_type": "stream",
     "text": [
      "Epoch  47 → QE=27.8064, TE=0.1828\n"
     ]
    },
    {
     "name": "stderr",
     "output_type": "stream",
     "text": [
      "Epoch:  48%|████▊     | 48/100 [10:07<12:07, 13.99s/it]"
     ]
    },
    {
     "name": "stdout",
     "output_type": "stream",
     "text": [
      "Epoch  48 → QE=27.9335, TE=0.1729\n"
     ]
    },
    {
     "name": "stderr",
     "output_type": "stream",
     "text": [
      "Epoch:  49%|████▉     | 49/100 [10:17<10:56, 12.88s/it]"
     ]
    },
    {
     "name": "stdout",
     "output_type": "stream",
     "text": [
      "Epoch  49 → QE=27.2419, TE=0.2225\n"
     ]
    },
    {
     "name": "stderr",
     "output_type": "stream",
     "text": [
      "Epoch:  50%|█████     | 50/100 [10:28<10:04, 12.09s/it]"
     ]
    },
    {
     "name": "stdout",
     "output_type": "stream",
     "text": [
      "Epoch  50 → QE=27.2363, TE=0.1707\n"
     ]
    },
    {
     "name": "stderr",
     "output_type": "stream",
     "text": [
      "Epoch:  51%|█████     | 51/100 [10:38<09:28, 11.60s/it]"
     ]
    },
    {
     "name": "stdout",
     "output_type": "stream",
     "text": [
      "Epoch  51 → QE=27.2756, TE=0.1322\n"
     ]
    },
    {
     "name": "stderr",
     "output_type": "stream",
     "text": [
      "Epoch:  52%|█████▏    | 52/100 [10:48<09:00, 11.27s/it]"
     ]
    },
    {
     "name": "stdout",
     "output_type": "stream",
     "text": [
      "Epoch  52 → QE=27.2865, TE=0.1806\n"
     ]
    },
    {
     "name": "stderr",
     "output_type": "stream",
     "text": [
      "Epoch:  53%|█████▎    | 53/100 [10:59<08:39, 11.06s/it]"
     ]
    },
    {
     "name": "stdout",
     "output_type": "stream",
     "text": [
      "Epoch  53 → QE=27.5270, TE=0.2522\n"
     ]
    },
    {
     "name": "stderr",
     "output_type": "stream",
     "text": [
      "Epoch:  54%|█████▍    | 54/100 [11:10<08:21, 10.90s/it]"
     ]
    },
    {
     "name": "stdout",
     "output_type": "stream",
     "text": [
      "Epoch  54 → QE=27.9679, TE=0.1542\n"
     ]
    },
    {
     "name": "stderr",
     "output_type": "stream",
     "text": [
      "Epoch:  55%|█████▌    | 55/100 [11:20<08:06, 10.81s/it]"
     ]
    },
    {
     "name": "stdout",
     "output_type": "stream",
     "text": [
      "Epoch  55 → QE=28.4213, TE=0.1278\n"
     ]
    },
    {
     "name": "stderr",
     "output_type": "stream",
     "text": [
      "Epoch:  56%|█████▌    | 56/100 [11:31<07:57, 10.86s/it]"
     ]
    },
    {
     "name": "stdout",
     "output_type": "stream",
     "text": [
      "Epoch  56 → QE=27.5508, TE=0.1707\n"
     ]
    },
    {
     "name": "stderr",
     "output_type": "stream",
     "text": [
      "Epoch:  57%|█████▋    | 57/100 [11:42<07:44, 10.80s/it]"
     ]
    },
    {
     "name": "stdout",
     "output_type": "stream",
     "text": [
      "Epoch  57 → QE=28.7816, TE=0.1046\n"
     ]
    },
    {
     "name": "stderr",
     "output_type": "stream",
     "text": [
      "Epoch:  58%|█████▊    | 58/100 [11:54<07:46, 11.11s/it]"
     ]
    },
    {
     "name": "stdout",
     "output_type": "stream",
     "text": [
      "Epoch  58 → QE=27.5384, TE=0.1927\n"
     ]
    },
    {
     "name": "stderr",
     "output_type": "stream",
     "text": [
      "Epoch:  59%|█████▉    | 59/100 [12:06<07:49, 11.44s/it]"
     ]
    },
    {
     "name": "stdout",
     "output_type": "stream",
     "text": [
      "Epoch  59 → QE=26.9225, TE=0.0925\n"
     ]
    },
    {
     "name": "stderr",
     "output_type": "stream",
     "text": [
      "Epoch:  60%|██████    | 60/100 [12:18<07:48, 11.71s/it]"
     ]
    },
    {
     "name": "stdout",
     "output_type": "stream",
     "text": [
      "Epoch  60 → QE=27.7026, TE=0.2500\n"
     ]
    },
    {
     "name": "stderr",
     "output_type": "stream",
     "text": [
      "Epoch:  61%|██████    | 61/100 [12:30<07:41, 11.83s/it]"
     ]
    },
    {
     "name": "stdout",
     "output_type": "stream",
     "text": [
      "Epoch  61 → QE=27.3974, TE=0.3469\n"
     ]
    },
    {
     "name": "stderr",
     "output_type": "stream",
     "text": [
      "Epoch:  62%|██████▏   | 62/100 [12:42<07:33, 11.93s/it]"
     ]
    },
    {
     "name": "stdout",
     "output_type": "stream",
     "text": [
      "Epoch  62 → QE=27.7073, TE=0.2324\n"
     ]
    },
    {
     "name": "stderr",
     "output_type": "stream",
     "text": [
      "Epoch:  63%|██████▎   | 63/100 [12:55<07:23, 11.99s/it]"
     ]
    },
    {
     "name": "stdout",
     "output_type": "stream",
     "text": [
      "Epoch  63 → QE=27.3475, TE=0.1894\n"
     ]
    },
    {
     "name": "stderr",
     "output_type": "stream",
     "text": [
      "Epoch:  64%|██████▍   | 64/100 [13:07<07:13, 12.04s/it]"
     ]
    },
    {
     "name": "stdout",
     "output_type": "stream",
     "text": [
      "Epoch  64 → QE=27.4002, TE=0.3205\n"
     ]
    },
    {
     "name": "stderr",
     "output_type": "stream",
     "text": [
      "Epoch:  65%|██████▌   | 65/100 [13:19<07:02, 12.06s/it]"
     ]
    },
    {
     "name": "stdout",
     "output_type": "stream",
     "text": [
      "Epoch  65 → QE=27.4306, TE=0.1300\n"
     ]
    },
    {
     "name": "stderr",
     "output_type": "stream",
     "text": [
      "Epoch:  66%|██████▌   | 66/100 [13:31<06:50, 12.07s/it]"
     ]
    },
    {
     "name": "stdout",
     "output_type": "stream",
     "text": [
      "Epoch  66 → QE=26.4915, TE=0.2258\n"
     ]
    },
    {
     "name": "stderr",
     "output_type": "stream",
     "text": [
      "Epoch:  67%|██████▋   | 67/100 [13:43<06:38, 12.08s/it]"
     ]
    },
    {
     "name": "stdout",
     "output_type": "stream",
     "text": [
      "Epoch  67 → QE=27.2396, TE=0.2764\n"
     ]
    },
    {
     "name": "stderr",
     "output_type": "stream",
     "text": [
      "Epoch:  68%|██████▊   | 68/100 [13:55<06:26, 12.06s/it]"
     ]
    },
    {
     "name": "stdout",
     "output_type": "stream",
     "text": [
      "Epoch  68 → QE=27.3383, TE=0.2665\n"
     ]
    },
    {
     "name": "stderr",
     "output_type": "stream",
     "text": [
      "Epoch:  69%|██████▉   | 69/100 [14:07<06:15, 12.10s/it]"
     ]
    },
    {
     "name": "stdout",
     "output_type": "stream",
     "text": [
      "Epoch  69 → QE=26.7337, TE=0.1421\n"
     ]
    },
    {
     "name": "stderr",
     "output_type": "stream",
     "text": [
      "Epoch:  70%|███████   | 70/100 [14:20<06:10, 12.36s/it]"
     ]
    },
    {
     "name": "stdout",
     "output_type": "stream",
     "text": [
      "Epoch  70 → QE=27.5507, TE=0.2974\n"
     ]
    },
    {
     "name": "stderr",
     "output_type": "stream",
     "text": [
      "Epoch:  71%|███████   | 71/100 [14:33<06:04, 12.57s/it]"
     ]
    },
    {
     "name": "stdout",
     "output_type": "stream",
     "text": [
      "Epoch  71 → QE=27.4715, TE=0.2643\n"
     ]
    },
    {
     "name": "stderr",
     "output_type": "stream",
     "text": [
      "Epoch:  72%|███████▏  | 72/100 [14:46<05:56, 12.75s/it]"
     ]
    },
    {
     "name": "stdout",
     "output_type": "stream",
     "text": [
      "Epoch  72 → QE=27.1546, TE=0.1784\n"
     ]
    },
    {
     "name": "stderr",
     "output_type": "stream",
     "text": [
      "Epoch:  73%|███████▎  | 73/100 [14:59<05:45, 12.78s/it]"
     ]
    },
    {
     "name": "stdout",
     "output_type": "stream",
     "text": [
      "Epoch  73 → QE=27.2260, TE=0.1311\n"
     ]
    },
    {
     "name": "stderr",
     "output_type": "stream",
     "text": [
      "Epoch:  74%|███████▍  | 74/100 [15:12<05:32, 12.81s/it]"
     ]
    },
    {
     "name": "stdout",
     "output_type": "stream",
     "text": [
      "Epoch  74 → QE=28.1315, TE=0.2423\n"
     ]
    },
    {
     "name": "stderr",
     "output_type": "stream",
     "text": [
      "Epoch:  75%|███████▌  | 75/100 [15:25<05:23, 12.92s/it]"
     ]
    },
    {
     "name": "stdout",
     "output_type": "stream",
     "text": [
      "Epoch  75 → QE=26.7663, TE=0.1432\n"
     ]
    },
    {
     "name": "stderr",
     "output_type": "stream",
     "text": [
      "Epoch:  76%|███████▌  | 76/100 [15:39<05:12, 13.00s/it]"
     ]
    },
    {
     "name": "stdout",
     "output_type": "stream",
     "text": [
      "Epoch  76 → QE=27.0740, TE=0.2753\n"
     ]
    },
    {
     "name": "stderr",
     "output_type": "stream",
     "text": [
      "Epoch:  77%|███████▋  | 77/100 [15:52<05:03, 13.21s/it]"
     ]
    },
    {
     "name": "stdout",
     "output_type": "stream",
     "text": [
      "Epoch  77 → QE=26.9676, TE=0.2070\n"
     ]
    },
    {
     "name": "stderr",
     "output_type": "stream",
     "text": [
      "Epoch:  78%|███████▊  | 78/100 [16:24<06:54, 18.86s/it]"
     ]
    },
    {
     "name": "stdout",
     "output_type": "stream",
     "text": [
      "Epoch  78 → QE=27.6969, TE=0.1399\n"
     ]
    },
    {
     "name": "stderr",
     "output_type": "stream",
     "text": [
      "Epoch:  79%|███████▉  | 79/100 [17:33<11:46, 33.67s/it]"
     ]
    },
    {
     "name": "stdout",
     "output_type": "stream",
     "text": [
      "Epoch  79 → QE=27.1320, TE=0.2302\n"
     ]
    },
    {
     "name": "stderr",
     "output_type": "stream",
     "text": [
      "Epoch:  80%|████████  | 80/100 [17:45<09:03, 27.17s/it]"
     ]
    },
    {
     "name": "stdout",
     "output_type": "stream",
     "text": [
      "Epoch  80 → QE=27.1803, TE=0.2115\n"
     ]
    },
    {
     "name": "stderr",
     "output_type": "stream",
     "text": [
      "Epoch:  81%|████████  | 81/100 [17:57<07:09, 22.63s/it]"
     ]
    },
    {
     "name": "stdout",
     "output_type": "stream",
     "text": [
      "Epoch  81 → QE=27.7003, TE=0.1850\n"
     ]
    },
    {
     "name": "stderr",
     "output_type": "stream",
     "text": [
      "Epoch:  82%|████████▏ | 82/100 [18:09<05:50, 19.45s/it]"
     ]
    },
    {
     "name": "stdout",
     "output_type": "stream",
     "text": [
      "Epoch  82 → QE=26.4013, TE=0.2170\n"
     ]
    },
    {
     "name": "stderr",
     "output_type": "stream",
     "text": [
      "Epoch:  83%|████████▎ | 83/100 [18:21<04:56, 17.41s/it]"
     ]
    },
    {
     "name": "stdout",
     "output_type": "stream",
     "text": [
      "Epoch  83 → QE=26.8429, TE=0.1784\n"
     ]
    },
    {
     "name": "stderr",
     "output_type": "stream",
     "text": [
      "Epoch:  84%|████████▍ | 84/100 [18:34<04:16, 16.05s/it]"
     ]
    },
    {
     "name": "stdout",
     "output_type": "stream",
     "text": [
      "Epoch  84 → QE=27.1885, TE=0.1949\n"
     ]
    },
    {
     "name": "stderr",
     "output_type": "stream",
     "text": [
      "Epoch:  85%|████████▌ | 85/100 [18:47<03:47, 15.14s/it]"
     ]
    },
    {
     "name": "stdout",
     "output_type": "stream",
     "text": [
      "Epoch  85 → QE=27.4294, TE=0.1817\n"
     ]
    },
    {
     "name": "stderr",
     "output_type": "stream",
     "text": [
      "Epoch:  86%|████████▌ | 86/100 [19:00<03:22, 14.46s/it]"
     ]
    },
    {
     "name": "stdout",
     "output_type": "stream",
     "text": [
      "Epoch  86 → QE=26.5790, TE=0.1795\n"
     ]
    },
    {
     "name": "stderr",
     "output_type": "stream",
     "text": [
      "Epoch:  87%|████████▋ | 87/100 [19:13<03:02, 14.03s/it]"
     ]
    },
    {
     "name": "stdout",
     "output_type": "stream",
     "text": [
      "Epoch  87 → QE=26.7258, TE=0.1652\n"
     ]
    },
    {
     "name": "stderr",
     "output_type": "stream",
     "text": [
      "Epoch:  88%|████████▊ | 88/100 [19:26<02:44, 13.68s/it]"
     ]
    },
    {
     "name": "stdout",
     "output_type": "stream",
     "text": [
      "Epoch  88 → QE=26.9484, TE=0.2665\n"
     ]
    },
    {
     "name": "stderr",
     "output_type": "stream",
     "text": [
      "Epoch:  89%|████████▉ | 89/100 [19:39<02:27, 13.43s/it]"
     ]
    },
    {
     "name": "stdout",
     "output_type": "stream",
     "text": [
      "Epoch  89 → QE=27.0857, TE=0.2676\n"
     ]
    },
    {
     "name": "stderr",
     "output_type": "stream",
     "text": [
      "Epoch:  90%|█████████ | 90/100 [19:52<02:13, 13.31s/it]"
     ]
    },
    {
     "name": "stdout",
     "output_type": "stream",
     "text": [
      "Epoch  90 → QE=26.6673, TE=0.1553\n"
     ]
    },
    {
     "name": "stderr",
     "output_type": "stream",
     "text": [
      "Epoch:  91%|█████████ | 91/100 [20:05<01:59, 13.27s/it]"
     ]
    },
    {
     "name": "stdout",
     "output_type": "stream",
     "text": [
      "Epoch  91 → QE=26.9335, TE=0.2511\n"
     ]
    },
    {
     "name": "stderr",
     "output_type": "stream",
     "text": [
      "Epoch:  92%|█████████▏| 92/100 [20:18<01:45, 13.18s/it]"
     ]
    },
    {
     "name": "stdout",
     "output_type": "stream",
     "text": [
      "Epoch  92 → QE=26.6728, TE=0.1674\n"
     ]
    },
    {
     "name": "stderr",
     "output_type": "stream",
     "text": [
      "Epoch:  93%|█████████▎| 93/100 [20:31<01:31, 13.09s/it]"
     ]
    },
    {
     "name": "stdout",
     "output_type": "stream",
     "text": [
      "Epoch  93 → QE=28.2336, TE=0.1751\n"
     ]
    },
    {
     "name": "stderr",
     "output_type": "stream",
     "text": [
      "Epoch:  94%|█████████▍| 94/100 [20:44<01:18, 13.06s/it]"
     ]
    },
    {
     "name": "stdout",
     "output_type": "stream",
     "text": [
      "Epoch  94 → QE=26.6510, TE=0.1278\n"
     ]
    },
    {
     "name": "stderr",
     "output_type": "stream",
     "text": [
      "Epoch:  95%|█████████▌| 95/100 [20:57<01:05, 13.03s/it]"
     ]
    },
    {
     "name": "stdout",
     "output_type": "stream",
     "text": [
      "Epoch  95 → QE=27.3159, TE=0.1740\n"
     ]
    },
    {
     "name": "stderr",
     "output_type": "stream",
     "text": [
      "Epoch:  96%|█████████▌| 96/100 [21:10<00:52, 13.03s/it]"
     ]
    },
    {
     "name": "stdout",
     "output_type": "stream",
     "text": [
      "Epoch  96 → QE=27.4047, TE=0.2467\n"
     ]
    },
    {
     "name": "stderr",
     "output_type": "stream",
     "text": [
      "Epoch:  97%|█████████▋| 97/100 [21:23<00:38, 12.99s/it]"
     ]
    },
    {
     "name": "stdout",
     "output_type": "stream",
     "text": [
      "Epoch  97 → QE=28.0486, TE=0.1784\n"
     ]
    },
    {
     "name": "stderr",
     "output_type": "stream",
     "text": [
      "Epoch:  98%|█████████▊| 98/100 [21:36<00:25, 13.00s/it]"
     ]
    },
    {
     "name": "stdout",
     "output_type": "stream",
     "text": [
      "Epoch  98 → QE=27.4004, TE=0.1564\n"
     ]
    },
    {
     "name": "stderr",
     "output_type": "stream",
     "text": [
      "Epoch:  99%|█████████▉| 99/100 [21:49<00:12, 12.94s/it]"
     ]
    },
    {
     "name": "stdout",
     "output_type": "stream",
     "text": [
      "Epoch  99 → QE=26.8497, TE=0.1960\n"
     ]
    },
    {
     "name": "stderr",
     "output_type": "stream",
     "text": [
      "Epoch: 100%|██████████| 100/100 [22:01<00:00, 13.22s/it]"
     ]
    },
    {
     "name": "stdout",
     "output_type": "stream",
     "text": [
      "Epoch 100 → QE=27.1149, TE=0.1729\n",
      "\n",
      "🏆 Best Epoch: 82 (QE=26.4013, TE=0.2170)\n",
      "✅ Saved best weights to som_image_best.pkl\n",
      "\n"
     ]
    },
    {
     "name": "stderr",
     "output_type": "stream",
     "text": [
      "\n"
     ]
    },
    {
     "data": {
      "image/png": "[encoded data removed]",
      "text/plain": [
       "<Figure size 1000x400 with 1 Axes>"
      ]
     },
     "metadata": {},
     "output_type": "display_data"
    },
    {
     "data": {
      "image/png": "[encoded data removed]",
      "text/plain": [
       "<Figure size 640x480 with 2 Axes>"
      ]
     },
     "metadata": {},
     "output_type": "display_data"
    },
    {
     "data": {
      "image/png": "[encoded data removed]",
      "text/plain": [
       "<Figure size 640x480 with 1 Axes>"
      ]
     },
     "metadata": {},
     "output_type": "display_data"
    },
    {
     "data": {
      "image/png": "[encoded data removed]",
      "text/plain": [
       "<Figure size 600x600 with 1 Axes>"
      ]
     },
     "metadata": {},
     "output_type": "display_data"
    }
   ],
   "source": [
    "import numpy as np\n",
    "import pickle\n",
    "import matplotlib.pyplot as plt\n",
    "from sklearn.decomposition import PCA\n",
    "from sklearn.preprocessing import StandardScaler\n",
    "from tqdm import trange\n",
    "\n",
    "\n",
    "X = np.load(\"X_img_dino_vitb8.npy\")  # 形状 (N, 768)\n",
    "scaler = StandardScaler()\n",
    "X = scaler.fit_transform(X)\n",
    "\n",
    "\n",
    "class NumbaSOM:\n",
    "    def __init__(self, x, y, input_len, sigma=6.0, learning_rate=1.0):\n",
    "        self.x, self.y = x, y\n",
    "        self.input_len = input_len\n",
    "        self.init_sigma = sigma\n",
    "        self.init_lr = learning_rate\n",
    "        self.weights = np.random.rand(x, y, input_len)\n",
    "\n",
    "    def winner(self, x):\n",
    "        dists = np.linalg.norm(self.weights - x[None, None, :], axis=2)\n",
    "        return np.unravel_index(np.argmin(dists), (self.x, self.y))\n",
    "\n",
    "    def update(self, x, win, iteration, max_iter):\n",
    "        decay = np.exp(-0.2 * iteration / max_iter)\n",
    "        sigma = self.init_sigma * decay\n",
    "        lr = self.init_lr * decay\n",
    "\n",
    "        xi, yi = win\n",
    "        for i in range(self.x):\n",
    "            for j in range(self.y):\n",
    "                dist = np.linalg.norm(np.array([i, j]) - np.array([xi, yi]))\n",
    "                if dist <= sigma * 2:\n",
    "                    influence = np.exp(-dist ** 2 / (2 * sigma ** 2))\n",
    "                    self.weights[i, j] += lr * influence * (x - self.weights[i, j])\n",
    "\n",
    "    def train(self, data, num_iteration=5, total_iter_offset=0, max_iter=1000):\n",
    "        for it in range(num_iteration):\n",
    "            for x in np.random.permutation(data):\n",
    "                win = self.winner(x)\n",
    "                self.update(x, win, iteration=total_iter_offset + it, max_iter=max_iter)\n",
    "\n",
    "\n",
    "\n",
    "def quant_error(weights, data):\n",
    "    flat = weights.reshape(-1, weights.shape[2])\n",
    "    dists = [np.min(np.linalg.norm(flat - v, axis=1)) for v in data]\n",
    "    return float(np.mean(dists))\n",
    "\n",
    "def topo_error(weights, data):\n",
    "    h, w, _ = weights.shape\n",
    "    flat = weights.reshape(-1, weights.shape[2])\n",
    "    errs = 0\n",
    "    for v in data:\n",
    "        d = np.linalg.norm(flat - v, axis=1)\n",
    "        idxs = np.argsort(d)[:2]\n",
    "        b1 = (idxs[0] // w, idxs[0] % w)\n",
    "        b2 = (idxs[1] // w, idxs[1] % w)\n",
    "        if abs(b1[0] - b2[0]) + abs(b1[1] - b2[1]) > 1:\n",
    "            errs += 1\n",
    "    return errs / data.shape[0]\n",
    "\n",
    "\n",
    "GRID_SIZE       = (16, 16)\n",
    "NUM_EPOCHS      = 100\n",
    "STEPS_PER_EPOCH = 5\n",
    "OUTPUT_PKL      = \"som_image_best.pkl\"\n",
    "\n",
    "som = NumbaSOM(x=GRID_SIZE[0], y=GRID_SIZE[1], input_len=X.shape[1],\n",
    "               sigma=6.0, learning_rate=1.0)\n",
    "\n",
    "qe_list, te_list, snapshots = [], [], []\n",
    "\n",
    "print(\"🚀 Start training…\")\n",
    "for ep in trange(NUM_EPOCHS, desc=\"Epoch\"):\n",
    "    som.train(X,\n",
    "              num_iteration=STEPS_PER_EPOCH,\n",
    "              total_iter_offset=ep * STEPS_PER_EPOCH,\n",
    "              max_iter=NUM_EPOCHS * STEPS_PER_EPOCH)\n",
    "\n",
    "\n",
    "    W = som.weights.copy()\n",
    "    snapshots.append(W)\n",
    "\n",
    "\n",
    "    qe = quant_error(W, X)\n",
    "    te = topo_error(W, X)\n",
    "    qe_list.append(qe)\n",
    "    te_list.append(te)\n",
    "    print(f\"Epoch {ep+1:3d} → QE={qe:.4f}, TE={te:.4f}\")\n",
    "\n",
    "\n",
    "best_idx = int(np.argmin(qe_list))\n",
    "best_epoch = best_idx + 1\n",
    "print(f\"\\n🏆 Best Epoch: {best_epoch} (QE={qe_list[best_idx]:.4f}, TE={te_list[best_idx]:.4f})\")\n",
    "\n",
    "best_weights = snapshots[best_idx]\n",
    "with open(OUTPUT_PKL, 'wb') as f:\n",
    "    pickle.dump(best_weights, f)\n",
    "print(f\"✅ Saved best weights to {OUTPUT_PKL}\\n\")\n",
    "\n",
    "\n",
    "\n",
    "epochs = np.arange(1, NUM_EPOCHS + 1)\n",
    "plt.figure(figsize=(10, 4))\n",
    "plt.plot(epochs, qe_list, marker='o', label='Quantization Error')\n",
    "plt.plot(epochs, te_list, marker='s', label='Topographic Error')\n",
    "plt.xlabel(\"Epoch\")\n",
    "plt.ylabel(\"Error\")\n",
    "plt.title(\"Image SOM Training: QE & TE over Epochs\")\n",
    "plt.legend()\n",
    "plt.grid(True)\n",
    "plt.tight_layout()\n",
    "plt.show()\n",
    "\n",
    "\n",
    "\n",
    "umatrix = np.zeros((som.x, som.y))\n",
    "for i in range(som.x):\n",
    "    for j in range(som.y):\n",
    "        w = som.weights[i, j]\n",
    "        neigh = []\n",
    "        for dx, dy in [(-1,0), (1,0), (0,-1), (0,1)]:\n",
    "            ni, nj = i + dx, j + dy\n",
    "            if 0 <= ni < som.x and 0 <= nj < som.y:\n",
    "                neigh.append(np.linalg.norm(w - som.weights[ni, nj]))\n",
    "        umatrix[i, j] = np.mean(neigh)\n",
    "\n",
    "plt.imshow(umatrix, cmap='bone', origin='lower')\n",
    "plt.title(\"U-Matrix\")\n",
    "plt.colorbar(label=\"Average neighbor distance\")\n",
    "plt.show()\n",
    "\n",
    "\n",
    "weights_flat = som.weights.reshape(-1, X.shape[1])\n",
    "pca = PCA(n_components=3)\n",
    "rgb_weights = pca.fit_transform(weights_flat)\n",
    "rgb_weights = (rgb_weights - rgb_weights.min()) / (rgb_weights.max() - rgb_weights.min())\n",
    "rgb_img = rgb_weights.reshape(som.x, som.y, 3)\n",
    "\n",
    "plt.imshow(rgb_img, origin='lower')\n",
    "plt.title(\"SOM Cell Colors (PCA→RGB)\")\n",
    "plt.axis('off')\n",
    "plt.show()\n",
    "\n",
    "\n",
    "rgb_data = pca.transform(X)\n",
    "rgb_data = (rgb_data - rgb_data.min()) / (rgb_data.max() - rgb_data.min())\n",
    "\n",
    "plt.figure(figsize=(6,6))\n",
    "plt.scatter(rgb_data[:, 0], rgb_data[:, 1], c=rgb_data, s=10)\n",
    "plt.title(\"Image Embedding (PCA→RGB)\")\n",
    "plt.axis('equal')\n",
    "plt.show()\n"
   ]
  },
  {
   "cell_type": "code",
   "execution_count": null,
   "id": "cb7272f1",
   "metadata": {},
   "outputs": [
    {
     "data": {
      "image/png": "[encoded data removed]",
      "text/plain": [
       "<Figure size 500x500 with 2 Axes>"
      ]
     },
     "metadata": {},
     "output_type": "display_data"
    },
    {
     "data": {
      "image/png": "[encoded data removed]",
      "text/plain": [
       "<Figure size 1000x500 with 2 Axes>"
      ]
     },
     "metadata": {},
     "output_type": "display_data"
    }
   ],
   "source": [
    "%matplotlib inline\n",
    "import numpy as np\n",
    "import pickle\n",
    "import matplotlib.pyplot as plt\n",
    "from sklearn.decomposition import PCA\n",
    "\n",
    "\n",
    "with open('som_image_best.pkl', 'rb') as f:\n",
    "    W = pickle.load(f)   # shape = (gx, gy, dim)\n",
    "gx, gy, dim = W.shape\n",
    "\n",
    "\n",
    "umatrix = np.zeros((gx, gy))\n",
    "for i in range(gx):\n",
    "    for j in range(gy):\n",
    "        neigh = []\n",
    "        for dx, dy in [(-1,0),(1,0),(0,-1),(0,1)]:\n",
    "            ni, nj = i+dx, j+dy\n",
    "            if 0 <= ni < gx and 0 <= nj < gy:\n",
    "                neigh.append(np.linalg.norm(W[i,j] - W[ni,nj]))\n",
    "        umatrix[i,j] = np.mean(neigh)\n",
    "\n",
    "plt.figure(figsize=(5,5))\n",
    "plt.imshow(umatrix, cmap='bone', origin='lower')\n",
    "plt.title(\"Image SOM U‑Matrix (best epoch)\")\n",
    "plt.colorbar(label=\"avg neighbor dist\")\n",
    "plt.show()\n",
    "\n",
    "\n",
    "flat = W.reshape(-1, dim)\n",
    "pca1 = PCA(n_components=3).fit(flat)\n",
    "rgb1 = pca1.transform(flat)\n",
    "rgb1 = (rgb1 - rgb1.min()) / (rgb1.max() - rgb1.min())\n",
    "img1 = rgb1.reshape(gx, gy, 3)\n",
    "\n",
    "\n",
    "X_img = np.load(\"X_img_dino_vitb8.npy\")\n",
    "pca2 = PCA(n_components=3).fit(X_img)\n",
    "rgb2 = pca2.transform(flat)\n",
    "rgb2 = (rgb2 - rgb2.min()) / (rgb2.max() - rgb2.min())\n",
    "img2 = rgb2.reshape(gx, gy, 3)\n",
    "\n",
    "\n",
    "fig, axes = plt.subplots(1,2, figsize=(10,5))\n",
    "axes[0].imshow(img1, origin='lower')\n",
    "axes[0].set_title(\"PCA on cells → RGB\")\n",
    "axes[0].axis('off')\n",
    "axes[1].imshow(img2, origin='lower')\n",
    "axes[1].set_title(\"PCA on data → cells → RGB\")\n",
    "axes[1].axis('off')\n",
    "plt.tight_layout()\n",
    "plt.show()\n"
   ]
  },
  {
   "cell_type": "code",
   "execution_count": null,
   "id": "3728e2de",
   "metadata": {},
   "outputs": [
    {
     "data": {
      "image/png": "[encoded data removed]",
      "text/plain": [
       "<Figure size 600x600 with 1 Axes>"
      ]
     },
     "metadata": {},
     "output_type": "display_data"
    }
   ],
   "source": [
    "import numpy as np\n",
    "import pickle\n",
    "import matplotlib.pyplot as plt\n",
    "\n",
    "\n",
    "with open('som_image_best.pkl','rb') as f:\n",
    "    W = pickle.load(f)\n",
    "gx, gy, dim = W.shape\n",
    "\n",
    "X_news = np.load('X_bert.npy')          # shape (N_news, dim)\n",
    "with open('random_news_500.txt','r',encoding='utf-8') as f:\n",
    "    news_texts = [l.strip() for l in f if l.strip()]\n",
    "\n",
    "matches = __import__('json').load(open('matches_text2img.json','r',encoding='utf-8'))\n",
    "\n",
    "news_key = news_texts[i]\n",
    "img_list = matches[news_key][:4]\n",
    "\n",
    "\n",
    "with open('added image_names.txt','r',encoding='utf-8') as f:\n",
    "    image_names = [l.strip() for l in f if l.strip()]\n",
    "X_img = np.load('X_img_dino_vitb8.npy')\n",
    "\n",
    "\n",
    "def find_bmu(W, v):\n",
    "    flat = W.reshape(-1, W.shape[2])\n",
    "    idx = np.argmin(np.linalg.norm(flat - v, axis=1))\n",
    "    return divmod(idx, gy)\n",
    "\n",
    "\n",
    "news_vec = X_news[i]\n",
    "nr, nc = find_bmu(W, news_vec)\n",
    "\n",
    "img_bmus = []\n",
    "for img_name, sc in img_list:\n",
    "    j = image_names.index(img_name)\n",
    "    img_bmus.append(find_bmu(W, X_img[j]))\n",
    "\n",
    "\n",
    "fig, ax = plt.subplots(figsize=(6,6))\n",
    "ax.set_xlim(-0.5, gx-0.5); ax.set_ylim(gy-0.5, -0.5)\n",
    "for x in range(gx+1): ax.axvline(x-0.5, color='lightgray')\n",
    "for y in range(gy+1): ax.axhline(y-0.5, color='lightgray')\n",
    "\n",
    "ax.scatter(nc, nr, s=200, c='blue', label='News BMU', zorder=5)\n",
    "\n",
    "for pr, pc in img_bmus:\n",
    "    ax.scatter(pc, pr, s=80, c='green', zorder=5)\n",
    "    ax.plot([nc, pc], [nr, pr], '--', c='red')\n",
    "\n",
    "ax.set_title(f\"News→Image on SOM\\n“{news_key[:50]}…”\", pad=15)\n",
    "ax.legend(loc='upper right')\n",
    "ax.invert_yaxis()\n",
    "plt.tight_layout()\n",
    "plt.show()\n"
   ]
  }
 ],
 "metadata": {
  "kernelspec": {
   "display_name": "torch_pig",
   "language": "python",
   "name": "python3"
  },
  "language_info": {
   "codemirror_mode": {
    "name": "ipython",
    "version": 3
   },
   "file_extension": ".py",
   "mimetype": "text/x-python",
   "name": "python",
   "nbconvert_exporter": "python",
   "pygments_lexer": "ipython3",
   "version": "3.11.9"
  }
 },
 "nbformat": 4,
 "nbformat_minor": 5
}
